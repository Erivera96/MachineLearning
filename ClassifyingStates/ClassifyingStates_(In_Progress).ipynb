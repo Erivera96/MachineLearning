{
  "nbformat": 4,
  "nbformat_minor": 0,
  "metadata": {
    "colab": {
      "name": "ClassifyingStates (In Progress).ipynb",
      "provenance": [],
      "private_outputs": true,
      "collapsed_sections": [],
      "authorship_tag": "ABX9TyP3l/588Bb4x1ghzwQnNhiN",
      "include_colab_link": true
    },
    "kernelspec": {
      "name": "python3",
      "display_name": "Python 3"
    }
  },
  "cells": [
    {
      "cell_type": "markdown",
      "metadata": {
        "id": "view-in-github",
        "colab_type": "text"
      },
      "source": [
        "<a href=\"https://colab.research.google.com/github/Erivera96/MachineLearning/blob/master/ClassifyingStates/ClassifyingStates_(In_Progress).ipynb\" target=\"_parent\"><img src=\"https://colab.research.google.com/assets/colab-badge.svg\" alt=\"Open In Colab\"/></a>"
      ]
    },
    {
      "cell_type": "markdown",
      "metadata": {
        "id": "9TSflhWlPEBl",
        "colab_type": "text"
      },
      "source": [
        "#Data Cleaning Process"
      ]
    },
    {
      "cell_type": "code",
      "metadata": {
        "id": "NjjHB5D9XnEV",
        "colab_type": "code",
        "colab": {}
      },
      "source": [
        "import pandas as pd\n",
        "import numpy as np\n",
        "import glob as gl\n",
        "import matplotlib.pyplot as plt"
      ],
      "execution_count": null,
      "outputs": []
    },
    {
      "cell_type": "code",
      "metadata": {
        "id": "dG2n1BFXX34P",
        "colab_type": "code",
        "colab": {}
      },
      "source": [
        "extension = \"csv\"\n",
        "file_names = np.array([\"air_quality.csv\", \"car_insurance_fees.csv\", \"car_registration_fees.csv\", \"cost_of_living.csv\",\"crime_arsen.csv\", \"debt.csv\", \"education_rank.csv\", \"employment.csv\", \"ethnicity.csv\", \"homeless.csv\",\"internet_speed.csv\", \"labor_force.csv\", \"population.csv\", \"recreation.csv\", \"taxes.csv\", \"test_scores.csv\"])\n",
        "\n",
        "files = np.array(['https://raw.githubusercontent.com/Erivera96/MachineLearning/master/ClassifyingStates/MessyData/' + fn for fn in file_names])\n",
        "\n",
        "df = []\n",
        "for i in range(0,len(file_names)):\n",
        "    daframe = pd.read_csv(files[i]).sort_values(by=['State'],ascending=True, axis=0)\n",
        "    indices = list(daframe.index)\n",
        "    dic = dict(zip(indices, daframe['State'][indices]))\n",
        "    daframe = daframe.rename(index=dic)\n",
        "    df.append(daframe)\n",
        "states = pd.concat(df, axis=1,sort=False)\n",
        "states = states.drop(\"District of Columbia\", axis=0)\n",
        "states = states.reset_index()\n",
        "states = states.loc[:,~states.columns.duplicated()]\n",
        "states = states.drop(['index','avgCost', 'registrationNote', 'American Indian/Alaska Native', 'Native Hawaiian/Other Pacific Islander', 'Total', 'rank', 'Percent'], axis=1)\n",
        "\n",
        "#states"
      ],
      "execution_count": null,
      "outputs": []
    },
    {
      "cell_type": "code",
      "metadata": {
        "id": "JblMi4KT5pMJ",
        "colab_type": "code",
        "colab": {}
      },
      "source": [
        "states = states.rename(columns={'Pop':'Population', 'registrationCost':'CarRegistrationCost','costIndex':'CostIndex', 'costRank':'CostRank', 'groceryCost':'GroceryCost',\n",
        "                                'housingCost':'HousingCost','utilitiesCost':'UtilitiesCost','transportationCost':'TransportationCost',\n",
        "                                'miscCost':'MiscCost', 'homicideRate2017':'HomicideRate','firearmDeathRate':'FirearmDeathRate','firearmDeaths':'FirearmDeaths',\n",
        "                                'debt':'Debt','overallRank':'EducationRank','higherEducationRank':'HigherEducationRank','prek12Rank':'PreK12Rank',\n",
        "                                'employmentRate':'EmploymentRate','Two Or More Races':'MultiRace','totalHomeless':'TotalHomeless', 'totalHouseholds':'TotalHouseholds',\n",
        "                                'totalVeterans':'TotalVeterans','totalYoungAdults':'TotalYoungAdults','Pop2018':'Population2018','Pop2010':'Population2010',\n",
        "                                'growthSince2010':'GrowthSince2010','density':'Density', 'taxRank':'TaxRank', 'incomeTax':'IncomeTax', 'salesTax':'SalesTax',\n",
        "                                'propertyTax':'PropertyTax', 'averageACTScore':'AvgACTScore', 'meetingEnglish':'MetEnglish', 'meetingReading':'MetReading',\n",
        "                                'meetingMath':'MetMath', 'meetingScience':'MetScience'})\n",
        "\n",
        "column_order = ['State', 'Population', 'CostIndex', 'Debt', 'Growth', 'EmploymentRate', \n",
        "                'Density', 'CarRegistrationCost', 'CostRank', 'GroceryCost', 'HousingCost', 'UtilitiesCost',\n",
        "                'TransportationCost', 'MiscCost', 'HomicideRate', 'FirearmDeathRate','FirearmDeaths', 'PerCapita', \n",
        "                'EducationRank','HigherEducationRank', 'PreK12Rank', 'White', 'Black','Hispanic', 'Asian', \n",
        "                'MultiRace', 'TotalHomeless', 'TotalHouseholds','TotalVeterans', 'TotalYoungAdults', 'Population2018',\n",
        "                'Population2010', 'GrowthSince2010', 'AirQualityIndex', 'OutdoorRecreation', 'Retail', 'IndoorRecreation', 'Food', \n",
        "                'TaxRank', 'IncomeTax', 'SalesTax', 'PropertyTax', 'AvgACTScore', 'MetEnglish','MetReading', 'MetMath', 'MetScience']\n",
        "states = states.reindex(columns=column_order)\n",
        "\n",
        "# states.to_csv(\"US_states_data.csv\", index=False, encoding='utf-8-sig')\n",
        "states"
      ],
      "execution_count": null,
      "outputs": []
    },
    {
      "cell_type": "code",
      "metadata": {
        "id": "A8faXop33I5o",
        "colab_type": "code",
        "colab": {}
      },
      "source": [
        "np.sum(np.sum(states.isna()))"
      ],
      "execution_count": null,
      "outputs": []
    },
    {
      "cell_type": "markdown",
      "metadata": {
        "id": "jGWiue_3PJWi",
        "colab_type": "text"
      },
      "source": [
        "# Data Visualization & Analysis"
      ]
    },
    {
      "cell_type": "code",
      "metadata": {
        "id": "IT0LaaoxPDA3",
        "colab_type": "code",
        "colab": {}
      },
      "source": [
        "states.columns"
      ],
      "execution_count": null,
      "outputs": []
    },
    {
      "cell_type": "code",
      "metadata": {
        "id": "egyt-0BmxoMg",
        "colab_type": "code",
        "colab": {}
      },
      "source": [
        "import plotly.express as px\n",
        "df = px.data.tips()\n",
        "fig = px.histogram(states,x='Population')\n",
        "fig.show()"
      ],
      "execution_count": null,
      "outputs": []
    },
    {
      "cell_type": "code",
      "metadata": {
        "id": "Ei-QbaSHyY8Y",
        "colab_type": "code",
        "colab": {}
      },
      "source": [
        "fig = px.scatter(states, x=\"State\", y=\"Population\", color=\"Debt\",\n",
        "                 size='Density')\n",
        "fig.show()"
      ],
      "execution_count": null,
      "outputs": []
    },
    {
      "cell_type": "code",
      "metadata": {
        "id": "-kGGYKrg0ER2",
        "colab_type": "code",
        "colab": {}
      },
      "source": [
        "import plotly.graph_objects as go\n",
        "\n",
        "\n",
        "fig = go.Figure()\n",
        "\n",
        "fig.add_trace(go.Violin(y=states['IndoorRecreation'],\n",
        "                        box_visible=True,\n",
        "                        meanline_visible=True))\n",
        "fig.add_trace(go.Violin(y=states['OutdoorRecreation'],\n",
        "                        box_visible=True,\n",
        "                        meanline_visible=True))\n",
        "\n",
        "fig.show()"
      ],
      "execution_count": null,
      "outputs": []
    }
  ]
}