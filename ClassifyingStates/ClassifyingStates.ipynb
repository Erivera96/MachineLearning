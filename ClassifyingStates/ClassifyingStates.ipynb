{
  "nbformat": 4,
  "nbformat_minor": 0,
  "metadata": {
    "colab": {
      "name": "ClassifyingStates.ipynb",
      "provenance": [],
      "collapsed_sections": []
    },
    "kernelspec": {
      "name": "python3",
      "display_name": "Python 3"
    }
  },
  "cells": [
    {
      "cell_type": "markdown",
      "metadata": {
        "id": "9TSflhWlPEBl",
        "colab_type": "text"
      },
      "source": [
        "#Data Cleaning Process"
      ]
    },
    {
      "cell_type": "code",
      "metadata": {
        "id": "NjjHB5D9XnEV",
        "colab_type": "code",
        "colab": {}
      },
      "source": [
        "import pandas as pd\n",
        "import numpy as np\n",
        "import glob as gl\n",
        "import matplotlib.pyplot as plt"
      ],
      "execution_count": null,
      "outputs": []
    },
    {
      "cell_type": "code",
      "metadata": {
        "id": "dG2n1BFXX34P",
        "colab_type": "code",
        "colab": {}
      },
      "source": [
        "extension = \"csv\"\n",
        "file_names = np.array([\"air_quality.csv\", \"car_insurance_fees.csv\", \"car_registration_fees.csv\", \"cost_of_living.csv\",\"crime_arsen.csv\", \"debt.csv\", \"education_rank.csv\", \"employment.csv\", \"ethnicity.csv\", \"homeless.csv\",\"internet_speed.csv\", \"labor_force.csv\", \"population.csv\", \"recreation.csv\", \"taxes.csv\", \"test_scores.csv\"])\n",
        "\n",
        "files = np.array(['https://raw.githubusercontent.com/Erivera96/MachineLearning/master/ClassifyingStates/MessyData/' + fn for fn in file_names])\n",
        "\n",
        "df = []\n",
        "for i in range(0,len(file_names)):\n",
        "    daframe = pd.read_csv(files[i]).sort_values(by=['State'],ascending=True, axis=0)\n",
        "    indices = list(daframe.index)\n",
        "    dic = dict(zip(indices, daframe['State'][indices]))\n",
        "    daframe = daframe.rename(index=dic)\n",
        "    df.append(daframe)\n",
        "states = pd.concat(df, axis=1,sort=False)\n",
        "states = states.drop(\"District of Columbia\", axis=0)\n",
        "states = states.reset_index()\n",
        "states = states.loc[:,~states.columns.duplicated()]\n",
        "states = states.drop(['index','avgCost', 'registrationNote', 'American Indian/Alaska Native', 'Native Hawaiian/Other Pacific Islander', 'Total', 'rank', 'Percent'], axis=1)\n",
        "\n",
        "#states"
      ],
      "execution_count": null,
      "outputs": []
    },
    {
      "cell_type": "code",
      "metadata": {
        "id": "JblMi4KT5pMJ",
        "colab_type": "code",
        "colab": {}
      },
      "source": [
        "states = states.rename(columns={'Pop':'Population', 'registrationCost':'CarRegistrationCost','costIndex':'CostIndex', 'costRank':'CostRank', 'groceryCost':'GroceryCost',\n",
        "                                'housingCost':'HousingCost','utilitiesCost':'UtilitiesCost','transportationCost':'TransportationCost',\n",
        "                                'miscCost':'MiscCost', 'homicideRate2017':'HomicideRate','firearmDeathRate':'FirearmDeathRate','firearmDeaths':'FirearmDeaths',\n",
        "                                'debt':'Debt','overallRank':'EducationRank','higherEducationRank':'HigherEducationRank','prek12Rank':'PreK12Rank',\n",
        "                                'employmentRate':'EmploymentRate','Two Or More Races':'MultiRace','totalHomeless':'TotalHomeless', 'totalHouseholds':'TotalHouseholds',\n",
        "                                'totalVeterans':'TotalVeterans','totalYoungAdults':'TotalYoungAdults','Pop2018':'Population2018','Pop2010':'Population2010',\n",
        "                                'growthSince2010':'GrowthSince2010','density':'Density', 'taxRank':'TaxRank', 'incomeTax':'IncomeTax', 'salesTax':'SalesTax',\n",
        "                                'propertyTax':'PropertyTax', 'averageACTScore':'AvgACTScore', 'meetingEnglish':'MetEnglish', 'meetingReading':'MetReading',\n",
        "                                'meetingMath':'MetMath', 'meetingScience':'MetScience'})\n",
        "\n",
        "column_order = ['State', 'Population', 'CostIndex', 'Debt', 'Growth', 'EmploymentRate', \n",
        "                'Density', 'CarRegistrationCost', 'CostRank', 'GroceryCost', 'HousingCost', 'UtilitiesCost',\n",
        "                'TransportationCost', 'MiscCost', 'HomicideRate', 'FirearmDeathRate','FirearmDeaths', 'PerCapita', \n",
        "                'EducationRank','HigherEducationRank', 'PreK12Rank', 'White', 'Black','Hispanic', 'Asian', \n",
        "                'MultiRace', 'TotalHomeless', 'TotalHouseholds','TotalVeterans', 'TotalYoungAdults', 'Population2018',\n",
        "                'Population2010', 'GrowthSince2010', 'AirQualityIndex', 'OutdoorRecreation', 'Retail', 'IndoorRecreation', 'Food', \n",
        "                'TaxRank', 'IncomeTax', 'SalesTax', 'PropertyTax', 'AvgACTScore', 'MetEnglish','MetReading', 'MetMath', 'MetScience']\n",
        "states = states.reindex(columns=column_order)\n",
        "\n",
        "# states.to_csv(\"US_states_data.csv\", index=False, encoding='utf-8-sig')\n",
        "states"
      ],
      "execution_count": null,
      "outputs": []
    },
    {
      "cell_type": "code",
      "metadata": {
        "id": "A8faXop33I5o",
        "colab_type": "code",
        "colab": {}
      },
      "source": [
        "np.sum(np.sum(states.isna()))"
      ],
      "execution_count": null,
      "outputs": []
    },
    {
      "cell_type": "markdown",
      "metadata": {
        "id": "jGWiue_3PJWi",
        "colab_type": "text"
      },
      "source": [
        "# Data Visualization"
      ]
    },
    {
      "cell_type": "code",
      "metadata": {
        "id": "IT0LaaoxPDA3",
        "colab_type": "code",
        "colab": {}
      },
      "source": [
        "states.columns"
      ],
      "execution_count": null,
      "outputs": []
    },
    {
      "cell_type": "code",
      "metadata": {
        "id": "egyt-0BmxoMg",
        "colab_type": "code",
        "colab": {}
      },
      "source": [
        "import plotly.express as px\n",
        "df = px.data.tips()\n",
        "fig = px.histogram(states,x='CostIndex')\n",
        "fig.show()"
      ],
      "execution_count": null,
      "outputs": []
    },
    {
      "cell_type": "code",
      "metadata": {
        "id": "Ei-QbaSHyY8Y",
        "colab_type": "code",
        "colab": {}
      },
      "source": [
        "fig = px.scatter(states, x=\"State\", y=\"Population\", color=\"Debt\",\n",
        "                 size='Density')\n",
        "fig.show()"
      ],
      "execution_count": null,
      "outputs": []
    },
    {
      "cell_type": "code",
      "metadata": {
        "id": "-kGGYKrg0ER2",
        "colab_type": "code",
        "colab": {}
      },
      "source": [
        "import plotly.graph_objects as go\n",
        "\n",
        "\n",
        "fig = go.Figure()\n",
        "\n",
        "fig.add_trace(go.Violin(y=states['Debt'],\n",
        "                        box_visible=True,\n",
        "                        meanline_visible=True))\n",
        "fig.show()"
      ],
      "execution_count": null,
      "outputs": []
    },
    {
      "cell_type": "markdown",
      "metadata": {
        "id": "EA-ykFCq3lnU",
        "colab_type": "text"
      },
      "source": [
        "#Data Analysis"
      ]
    },
    {
      "cell_type": "code",
      "metadata": {
        "id": "hDwm0oe0wgap",
        "colab_type": "code",
        "colab": {}
      },
      "source": [
        "states_copy = states.copy(deep=True)\n",
        "states_copy = states_copy.drop(['State','CostRank','EducationRank','HigherEducationRank','PreK12Rank','TaxRank'],axis=1)\n",
        "states_array = states_copy.to_numpy()\n",
        "states_array.shape"
      ],
      "execution_count": null,
      "outputs": []
    },
    {
      "cell_type": "markdown",
      "metadata": {
        "id": "diKC7K4b3qGO",
        "colab_type": "text"
      },
      "source": [
        "##KMeans Clustering Algorithm"
      ]
    },
    {
      "cell_type": "code",
      "metadata": {
        "id": "rH4Qi5pEyO2u",
        "colab_type": "code",
        "colab": {}
      },
      "source": [
        "def euclid_dist(p1, p2):\n",
        "    retval = 0\n",
        "\n",
        "    for i in range(0,p1.shape[0]):\n",
        "        retval += (p1[i]-p2[i])**2\n",
        "    retval = np.sqrt(retval)\n",
        "\n",
        "    return retval\n",
        "\n",
        "\n",
        "def assign_to_cluster(P_row, centroids):\n",
        "    return np.argmin([euclid_dist(P_row, centroids[i,:]) for i in range(0, centroids.shape[0])])\n",
        "\n",
        "\n",
        "def calc_centroids(P, bins, k, bounds):\n",
        "\n",
        "    centroids = []\n",
        "    for i in range(0, k): # max bins+1 = k\n",
        "       points = np.array([P[j,:] for j in range(0,P.shape[0]) if bins[j] == i]) # gets all points for a single cluster\n",
        "\n",
        "       # if no points belong to this centroid, rerandomize the centroid, else calc with mean\n",
        "       if points.size == 0:\n",
        "           centroids.append(np.array([bounds[i,0] + (bounds[i,1]-bounds[i,0])*np.random.rand() for i in range(0,P.shape[1])]))\n",
        "       else:\n",
        "           centroids.append(np.array([np.mean(points[:,i]) for i in range(0, P.shape[1])])) \n",
        "    return np.array(centroids)\n",
        "\n",
        "# The K-means algorithm function\n",
        "def kmeans(P,k,eps=1e-4,max_iter=1e4):\n",
        "\n",
        "    # Initialize k centroids randomly\n",
        "    dims = P.shape[1] # find how many dimensions there are\n",
        "    bounds = bounds = np.array([(np.min(P[:,i]), np.max(P[:,i])) for i in range(0,dims)]) # find the min and max of each dimension\n",
        "    \n",
        "    centroids =  []\n",
        "    for i in range(0,k):\n",
        "        centroids.append(np.array([bounds[i,0] + (bounds[i,1] - bounds[i,0])*np.random.rand() for i in range(0,dims)]))\n",
        "    centroids = np.array(centroids)\n",
        "    \n",
        "    # Starting K-Means\n",
        "    num_points = P.shape[0]\n",
        "    bins = None\n",
        "    iter = 0\n",
        "    centroid_max_diff = np.inf\n",
        "\n",
        "    while iter < int(max_iter) and centroid_max_diff > eps:\n",
        "\n",
        "        # Step 1) want to assign data to centroids\n",
        "        bins = np.array([assign_to_cluster(P[row,:], centroids) for row in range(0,num_points)])\n",
        "\n",
        "        # Step 2) recalculate centroid position for every cluster\n",
        "        centroids_prime = calc_centroids(P, bins, k, bounds)\n",
        "        centroid_max_diff = np.max(np.abs(centroids_prime - centroids))\n",
        "        centroids = centroids_prime\n",
        "\n",
        "        # increment iter\n",
        "        iter += 1\n",
        "\n",
        "    return centroids,bins"
      ],
      "execution_count": null,
      "outputs": []
    },
    {
      "cell_type": "markdown",
      "metadata": {
        "id": "w3Ra6G6N3u1q",
        "colab_type": "text"
      },
      "source": [
        "##Testing Mine"
      ]
    },
    {
      "cell_type": "code",
      "metadata": {
        "id": "eZWJ9Vj-auWL",
        "colab_type": "code",
        "colab": {}
      },
      "source": [
        "centroids, bins = kmeans(states_array, 3)"
      ],
      "execution_count": null,
      "outputs": []
    },
    {
      "cell_type": "code",
      "metadata": {
        "id": "oQmFImA8fdFX",
        "colab_type": "code",
        "colab": {}
      },
      "source": [
        "import matplotlib.pyplot as plt\n",
        "\n",
        "def myplot(k, bins, centroids, data, plt_type='hist'):\n",
        "    k = 3\n",
        "    f = plt.figure(figsize=(20,15))\n",
        "    for i in range(0,k):\n",
        "        points = data[bins == i]\n",
        "        for j in range(0,points.shape[1]):\n",
        "            plt.subplot(7,7,j+1)\n",
        "            if plt_type == 'scatter':\n",
        "                plt.scatter(points[:,0],points[:,j])\n",
        "                plt.scatter(centroids[:,0],centroids[:,j],color='black')\n",
        "            else:\n",
        "                plt.hist(points[:,j],alpha=0.5,bins=10)\n",
        "                plt.hist(centroids[:,j],color='black')"
      ],
      "execution_count": null,
      "outputs": []
    },
    {
      "cell_type": "markdown",
      "metadata": {
        "id": "YUPTUB_-30QN",
        "colab_type": "text"
      },
      "source": [
        "##Dimentionality Reduction"
      ]
    },
    {
      "cell_type": "code",
      "metadata": {
        "id": "X9gO1ROxgfT7",
        "colab_type": "code",
        "colab": {}
      },
      "source": [
        "import numpy as np\n",
        "from numpy.linalg import eig\n",
        "\n",
        "def PCA(A): #Principal Component Analysis\n",
        "\n",
        "    # first want the mean of the columns of A\n",
        "    Mean_A = np.mean(np.transpose(A), axis=1)\n",
        "\n",
        "    # second, center the columns by subtracting the mean from them\n",
        "    Centered_A = A - Mean_A\n",
        "    \n",
        "    # now we need the coviariance of this centered matrix, the covariance is generalized and unnormalized\n",
        "    Cov_A = np.cov(np.transpose(Centered_A))\n",
        "\n",
        "    # now we can do the eigenvalue decomposition:\n",
        "    eigvals, eigvecs = eig(Cov_A)\n",
        "    print('\\nValues:\\n', eigvals)\n",
        "\n",
        "    retval = np.dot(np.transpose(eigvecs), np.transpose(Centered_A))\n",
        "\n",
        "    return np.transpose(retval)"
      ],
      "execution_count": null,
      "outputs": []
    },
    {
      "cell_type": "code",
      "metadata": {
        "id": "dtsHT6nakPWj",
        "colab_type": "code",
        "colab": {}
      },
      "source": [
        "states_reduced = PCA(states_array)\n",
        "states_reduced"
      ],
      "execution_count": null,
      "outputs": []
    },
    {
      "cell_type": "code",
      "metadata": {
        "id": "FLT-NgGzoDRn",
        "colab_type": "code",
        "colab": {}
      },
      "source": [
        "def clean_up(A):\n",
        "\n",
        "    new_A = []\n",
        "    count = 0\n",
        "    A = np.transpose(A)\n",
        "\n",
        "    for col in range(0,A.shape[0]):\n",
        "        for row in range(0,A.shape[1]):\n",
        "\n",
        "            # if a row contains values smaller than 0.01, count them as bad\n",
        "            if np.abs(A[col][row]) <= 1e-2:\n",
        "                count += 1\n",
        "\n",
        "        # if more than two rows (rows being the states) have bad values, don't count that column        \n",
        "        if count <= 2:\n",
        "            new_A.append(np.array(A[col,:]))\n",
        "\n",
        "    return np.transpose(np.array(new_A))"
      ],
      "execution_count": null,
      "outputs": []
    },
    {
      "cell_type": "code",
      "metadata": {
        "id": "MVJBRKbcrIgR",
        "colab_type": "code",
        "colab": {}
      },
      "source": [
        "states_reduced_cleaned = clean_up(states_reduced)\n",
        "states_reduced_cleaned"
      ],
      "execution_count": null,
      "outputs": []
    },
    {
      "cell_type": "code",
      "metadata": {
        "id": "PgADvkswrnFq",
        "colab_type": "code",
        "colab": {}
      },
      "source": [
        "print(states_reduced_cleaned.shape)\n",
        "print(states_array.shape)"
      ],
      "execution_count": null,
      "outputs": []
    },
    {
      "cell_type": "markdown",
      "metadata": {
        "id": "UB5c697A4A1a",
        "colab_type": "text"
      },
      "source": [
        "##Retesting My KMeans with reduced data"
      ]
    },
    {
      "cell_type": "code",
      "metadata": {
        "id": "iftvc8nNybmS",
        "colab_type": "code",
        "colab": {}
      },
      "source": [
        "K = 3\n",
        "centroids2, bins2 = kmeans(states_reduced_cleaned,K)\n",
        "myplot(K,bins2, centroids2, states_reduced_cleaned)"
      ],
      "execution_count": null,
      "outputs": []
    },
    {
      "cell_type": "markdown",
      "metadata": {
        "id": "kywol3_p4Gwc",
        "colab_type": "text"
      },
      "source": [
        "##Testing against Pythons KMeans"
      ]
    },
    {
      "cell_type": "code",
      "metadata": {
        "id": "Bt4zl3Wr0kXb",
        "colab_type": "code",
        "colab": {}
      },
      "source": [
        "from sklearn.cluster import KMeans"
      ],
      "execution_count": null,
      "outputs": []
    },
    {
      "cell_type": "code",
      "metadata": {
        "id": "VY22dRR00w_A",
        "colab_type": "code",
        "colab": {}
      },
      "source": [
        "#python_version = KMeans(n_clusters=K,init='random')\n",
        "#python_version.fit(states_reduced_cleaned)\n",
        "#myplot(K, python_version.labels_, python_version.cluster_centers_,states_reduced_cleaned)\n",
        "\n",
        "wcss = []\n",
        "for i in range(1, 11):\n",
        "    python_kmeans = KMeans(n_clusters=i, init='random', max_iter=300)\n",
        "    python_kmeans.fit(states_reduced_cleaned)\n",
        "    wcss.append(python_kmeans.inertia_)\n",
        "\n",
        "plt.plot(range(1, 11), wcss)\n",
        "plt.title('Elbow Method')\n",
        "plt.xlabel('Number of clusters')\n",
        "plt.ylabel('WCSS')\n",
        "plt.show()"
      ],
      "execution_count": null,
      "outputs": []
    },
    {
      "cell_type": "code",
      "metadata": {
        "id": "l4ZgUQvEQfoH",
        "colab_type": "code",
        "colab": {
          "base_uri": "https://localhost:8080/",
          "height": 68
        },
        "outputId": "b204cae7-c819-4b98-ddc2-c0053580a12c"
      },
      "source": [
        "python_kmeans = KMeans(n_clusters=3, init='random', max_iter=300, verbose=0)\n",
        "python_kmeans.fit(states_reduced_cleaned)"
      ],
      "execution_count": 73,
      "outputs": [
        {
          "output_type": "execute_result",
          "data": {
            "text/plain": [
              "KMeans(algorithm='auto', copy_x=True, init='random', max_iter=300, n_clusters=3,\n",
              "       n_init=10, n_jobs=None, precompute_distances='auto', random_state=None,\n",
              "       tol=0.0001, verbose=0)"
            ]
          },
          "metadata": {
            "tags": []
          },
          "execution_count": 73
        }
      ]
    },
    {
      "cell_type": "code",
      "metadata": {
        "id": "EZ9j6YuaPjtR",
        "colab_type": "code",
        "colab": {
          "base_uri": "https://localhost:8080/",
          "height": 221
        },
        "outputId": "69c48365-e18c-4563-ca0e-04da29808a0a"
      },
      "source": [
        "states['Clusters'] = python_kmeans.labels_\n",
        "states['Clusters'] = states['Clusters'].astype(str)\n",
        "states.columns"
      ],
      "execution_count": 69,
      "outputs": [
        {
          "output_type": "execute_result",
          "data": {
            "text/plain": [
              "Index(['State', 'Population', 'CostIndex', 'Debt', 'Growth', 'EmploymentRate',\n",
              "       'Density', 'CarRegistrationCost', 'CostRank', 'GroceryCost',\n",
              "       'HousingCost', 'UtilitiesCost', 'TransportationCost', 'MiscCost',\n",
              "       'HomicideRate', 'FirearmDeathRate', 'FirearmDeaths', 'PerCapita',\n",
              "       'EducationRank', 'HigherEducationRank', 'PreK12Rank', 'White', 'Black',\n",
              "       'Hispanic', 'Asian', 'MultiRace', 'TotalHomeless', 'TotalHouseholds',\n",
              "       'TotalVeterans', 'TotalYoungAdults', 'Population2018', 'Population2010',\n",
              "       'GrowthSince2010', 'AirQualityIndex', 'OutdoorRecreation', 'Retail',\n",
              "       'IndoorRecreation', 'Food', 'TaxRank', 'IncomeTax', 'SalesTax',\n",
              "       'PropertyTax', 'AvgACTScore', 'MetEnglish', 'MetReading', 'MetMath',\n",
              "       'MetScience', 'Clusters'],\n",
              "      dtype='object')"
            ]
          },
          "metadata": {
            "tags": []
          },
          "execution_count": 69
        }
      ]
    },
    {
      "cell_type": "code",
      "metadata": {
        "id": "Ihsu8xozTMeE",
        "colab_type": "code",
        "colab": {}
      },
      "source": [
        "import plotly.express as px"
      ],
      "execution_count": 46,
      "outputs": []
    },
    {
      "cell_type": "code",
      "metadata": {
        "id": "dCMxjNrcYHBR",
        "colab_type": "code",
        "colab": {
          "base_uri": "https://localhost:8080/",
          "height": 542
        },
        "outputId": "f0a98eda-3990-4757-d89d-9bf4e87d1307"
      },
      "source": [
        "fig = px.scatter(states, x = 'State', y = 'Population', color = bins2.astype(str), size = 'Debt', title='Using MyKMeans')\n",
        "fig.show()"
      ],
      "execution_count": 81,
      "outputs": [
        {
          "output_type": "display_data",
          "data": {
            "text/html": [
              "<html>\n",
              "<head><meta charset=\"utf-8\" /></head>\n",
              "<body>\n",
              "    <div>\n",
              "            <script src=\"https://cdnjs.cloudflare.com/ajax/libs/mathjax/2.7.5/MathJax.js?config=TeX-AMS-MML_SVG\"></script><script type=\"text/javascript\">if (window.MathJax) {MathJax.Hub.Config({SVG: {font: \"STIX-Web\"}});}</script>\n",
              "                <script type=\"text/javascript\">window.PlotlyConfig = {MathJaxConfig: 'local'};</script>\n",
              "        <script src=\"https://cdn.plot.ly/plotly-latest.min.js\"></script>    \n",
              "            <div id=\"cdb1e6a3-e905-4b95-882a-256f597a7afa\" class=\"plotly-graph-div\" style=\"height:525px; width:100%;\"></div>\n",
              "            <script type=\"text/javascript\">\n",
              "                \n",
              "                    window.PLOTLYENV=window.PLOTLYENV || {};\n",
              "                    \n",
              "                if (document.getElementById(\"cdb1e6a3-e905-4b95-882a-256f597a7afa\")) {\n",
              "                    Plotly.newPlot(\n",
              "                        'cdb1e6a3-e905-4b95-882a-256f597a7afa',\n",
              "                        [{\"hoverlabel\": {\"namelength\": 0}, \"hovertemplate\": \"color=2<br>State=%{x}<br>Population=%{y}<br>Debt=%{marker.size}\", \"legendgroup\": \"color=2\", \"marker\": {\"color\": \"#636efa\", \"size\": [8772871.0, 5921713.0, 14291349.0, 4801939.0, 16980689.0, 4561576.0, 13050862.0, 9656278.0, 3369178.0, 21842716.0, 6149694.0, 7538475.0, 14403514.0, 18092508.0, 4750384.0, 28027363.0, 16363418.0, 7470178.0, 18419751.0, 2795614.0, 2014523.0, 3248814.0, 7739447.0, 7057656.0, 16310177.0, 2885664.0, 8457322.0, 12656643.0, 8932377.0, 15744638.0, 3527703.0, 6127422.0, 7453346.0, 3502960.0, 27825929.0, 7547010.0, 23252381.0, 769721.0], \"sizemode\": \"area\", \"sizeref\": 381930.73, \"symbol\": \"circle\"}, \"mode\": \"markers\", \"name\": \"color=2\", \"showlegend\": true, \"type\": \"scatter\", \"x\": [\"Alabama\", \"Alaska\", \"Arizona\", \"Arkansas\", \"Colorado\", \"Delaware\", \"Georgia\", \"Hawaii\", \"Idaho\", \"Indiana\", \"Iowa\", \"Kansas\", \"Kentucky\", \"Louisiana\", \"Maine\", \"Maryland\", \"Minnesota\", \"Mississippi\", \"Missouri\", \"Montana\", \"Nebraska\", \"Nevada\", \"New Hampshire\", \"New Mexico\", \"North Carolina\", \"North Dakota\", \"Oklahoma\", \"Oregon\", \"Rhode Island\", \"South Carolina\", \"South Dakota\", \"Tennessee\", \"Utah\", \"Vermont\", \"Virginia\", \"West Virginia\", \"Wisconsin\", \"Wyoming\"], \"xaxis\": \"x\", \"y\": [4908621, 734002, 7378494, 3038999, 5845526, 982895, 10736059, 1412687, 1826156, 6745354, 3179849, 2910357, 4499692, 4645184, 1345790, 6083116, 5700671, 2989260, 6169270, 1086759, 1952570, 3139658, 1359711, 2096640, 10611862, 761723, 3954821, 4301089, 1056161, 5210095, 903027, 6897576, 3282115, 628061, 8626207, 1778070, 5851754, 567025], \"yaxis\": \"y\"}, {\"hoverlabel\": {\"namelength\": 0}, \"hovertemplate\": \"color=1<br>State=%{x}<br>Population=%{y}<br>Debt=%{marker.size}\", \"legendgroup\": \"color=1\", \"marker\": {\"color\": \"#EF553B\", \"size\": [152772292.0, 139234923.0], \"sizemode\": \"area\", \"sizeref\": 381930.73, \"symbol\": \"circle\"}, \"mode\": \"markers\", \"name\": \"color=1\", \"showlegend\": true, \"type\": \"scatter\", \"x\": [\"California\", \"New York\"], \"xaxis\": \"x\", \"y\": [39937489, 19440469], \"yaxis\": \"y\"}, {\"hoverlabel\": {\"namelength\": 0}, \"hovertemplate\": \"color=0<br>State=%{x}<br>Population=%{y}<br>Debt=%{marker.size}\", \"legendgroup\": \"color=0\", \"marker\": {\"color\": \"#00cc96\", \"size\": [38756156.0, 28823847.0, 61821319.0, 77043165.0, 33463604.0, 65874095.0, 33493235.0, 47519575.0, 50963262.0, 33427752.0], \"sizemode\": \"area\", \"sizeref\": 381930.73, \"symbol\": \"circle\"}, \"mode\": \"markers\", \"name\": \"color=0\", \"showlegend\": true, \"type\": \"scatter\", \"x\": [\"Connecticut\", \"Florida\", \"Illinois\", \"Massachusetts\", \"Michigan\", \"New Jersey\", \"Ohio\", \"Pennsylvania\", \"Texas\", \"Washington\"], \"xaxis\": \"x\", \"y\": [3563077, 21992985, 12659682, 6976597, 10045029, 8936574, 11747694, 12820878, 29472295, 7797095], \"yaxis\": \"y\"}],\n",
              "                        {\"legend\": {\"itemsizing\": \"constant\", \"tracegroupgap\": 0}, \"template\": {\"data\": {\"bar\": [{\"error_x\": {\"color\": \"#2a3f5f\"}, \"error_y\": {\"color\": \"#2a3f5f\"}, \"marker\": {\"line\": {\"color\": \"#E5ECF6\", \"width\": 0.5}}, \"type\": \"bar\"}], \"barpolar\": [{\"marker\": {\"line\": {\"color\": \"#E5ECF6\", \"width\": 0.5}}, \"type\": \"barpolar\"}], \"carpet\": [{\"aaxis\": {\"endlinecolor\": \"#2a3f5f\", \"gridcolor\": \"white\", \"linecolor\": \"white\", \"minorgridcolor\": \"white\", \"startlinecolor\": \"#2a3f5f\"}, \"baxis\": {\"endlinecolor\": \"#2a3f5f\", \"gridcolor\": \"white\", \"linecolor\": \"white\", \"minorgridcolor\": \"white\", \"startlinecolor\": \"#2a3f5f\"}, \"type\": \"carpet\"}], \"choropleth\": [{\"colorbar\": {\"outlinewidth\": 0, \"ticks\": \"\"}, \"type\": \"choropleth\"}], \"contour\": [{\"colorbar\": {\"outlinewidth\": 0, \"ticks\": \"\"}, \"colorscale\": [[0.0, \"#0d0887\"], [0.1111111111111111, \"#46039f\"], [0.2222222222222222, \"#7201a8\"], [0.3333333333333333, \"#9c179e\"], [0.4444444444444444, \"#bd3786\"], [0.5555555555555556, \"#d8576b\"], [0.6666666666666666, \"#ed7953\"], [0.7777777777777778, \"#fb9f3a\"], [0.8888888888888888, \"#fdca26\"], [1.0, \"#f0f921\"]], \"type\": \"contour\"}], \"contourcarpet\": [{\"colorbar\": {\"outlinewidth\": 0, \"ticks\": \"\"}, \"type\": \"contourcarpet\"}], \"heatmap\": [{\"colorbar\": {\"outlinewidth\": 0, \"ticks\": \"\"}, \"colorscale\": [[0.0, \"#0d0887\"], [0.1111111111111111, \"#46039f\"], [0.2222222222222222, \"#7201a8\"], [0.3333333333333333, \"#9c179e\"], [0.4444444444444444, \"#bd3786\"], [0.5555555555555556, \"#d8576b\"], [0.6666666666666666, \"#ed7953\"], [0.7777777777777778, \"#fb9f3a\"], [0.8888888888888888, \"#fdca26\"], [1.0, \"#f0f921\"]], \"type\": \"heatmap\"}], \"heatmapgl\": [{\"colorbar\": {\"outlinewidth\": 0, \"ticks\": \"\"}, \"colorscale\": [[0.0, \"#0d0887\"], [0.1111111111111111, \"#46039f\"], [0.2222222222222222, \"#7201a8\"], [0.3333333333333333, \"#9c179e\"], [0.4444444444444444, \"#bd3786\"], [0.5555555555555556, \"#d8576b\"], [0.6666666666666666, \"#ed7953\"], [0.7777777777777778, \"#fb9f3a\"], [0.8888888888888888, \"#fdca26\"], [1.0, \"#f0f921\"]], \"type\": \"heatmapgl\"}], \"histogram\": [{\"marker\": {\"colorbar\": {\"outlinewidth\": 0, \"ticks\": \"\"}}, \"type\": \"histogram\"}], \"histogram2d\": [{\"colorbar\": {\"outlinewidth\": 0, \"ticks\": \"\"}, \"colorscale\": [[0.0, \"#0d0887\"], [0.1111111111111111, \"#46039f\"], [0.2222222222222222, \"#7201a8\"], [0.3333333333333333, \"#9c179e\"], [0.4444444444444444, \"#bd3786\"], [0.5555555555555556, \"#d8576b\"], [0.6666666666666666, \"#ed7953\"], [0.7777777777777778, \"#fb9f3a\"], [0.8888888888888888, \"#fdca26\"], [1.0, \"#f0f921\"]], \"type\": \"histogram2d\"}], \"histogram2dcontour\": [{\"colorbar\": {\"outlinewidth\": 0, \"ticks\": \"\"}, \"colorscale\": [[0.0, \"#0d0887\"], [0.1111111111111111, \"#46039f\"], [0.2222222222222222, \"#7201a8\"], [0.3333333333333333, \"#9c179e\"], [0.4444444444444444, \"#bd3786\"], [0.5555555555555556, \"#d8576b\"], [0.6666666666666666, \"#ed7953\"], [0.7777777777777778, \"#fb9f3a\"], [0.8888888888888888, \"#fdca26\"], [1.0, \"#f0f921\"]], \"type\": \"histogram2dcontour\"}], \"mesh3d\": [{\"colorbar\": {\"outlinewidth\": 0, \"ticks\": \"\"}, \"type\": \"mesh3d\"}], \"parcoords\": [{\"line\": {\"colorbar\": {\"outlinewidth\": 0, \"ticks\": \"\"}}, \"type\": \"parcoords\"}], \"pie\": [{\"automargin\": true, \"type\": \"pie\"}], \"scatter\": [{\"marker\": {\"colorbar\": {\"outlinewidth\": 0, \"ticks\": \"\"}}, \"type\": \"scatter\"}], \"scatter3d\": [{\"line\": {\"colorbar\": {\"outlinewidth\": 0, \"ticks\": \"\"}}, \"marker\": {\"colorbar\": {\"outlinewidth\": 0, \"ticks\": \"\"}}, \"type\": \"scatter3d\"}], \"scattercarpet\": [{\"marker\": {\"colorbar\": {\"outlinewidth\": 0, \"ticks\": \"\"}}, \"type\": \"scattercarpet\"}], \"scattergeo\": [{\"marker\": {\"colorbar\": {\"outlinewidth\": 0, \"ticks\": \"\"}}, \"type\": \"scattergeo\"}], \"scattergl\": [{\"marker\": {\"colorbar\": {\"outlinewidth\": 0, \"ticks\": \"\"}}, \"type\": \"scattergl\"}], \"scattermapbox\": [{\"marker\": {\"colorbar\": {\"outlinewidth\": 0, \"ticks\": \"\"}}, \"type\": \"scattermapbox\"}], \"scatterpolar\": [{\"marker\": {\"colorbar\": {\"outlinewidth\": 0, \"ticks\": \"\"}}, \"type\": \"scatterpolar\"}], \"scatterpolargl\": [{\"marker\": {\"colorbar\": {\"outlinewidth\": 0, \"ticks\": \"\"}}, \"type\": \"scatterpolargl\"}], \"scatterternary\": [{\"marker\": {\"colorbar\": {\"outlinewidth\": 0, \"ticks\": \"\"}}, \"type\": \"scatterternary\"}], \"surface\": [{\"colorbar\": {\"outlinewidth\": 0, \"ticks\": \"\"}, \"colorscale\": [[0.0, \"#0d0887\"], [0.1111111111111111, \"#46039f\"], [0.2222222222222222, \"#7201a8\"], [0.3333333333333333, \"#9c179e\"], [0.4444444444444444, \"#bd3786\"], [0.5555555555555556, \"#d8576b\"], [0.6666666666666666, \"#ed7953\"], [0.7777777777777778, \"#fb9f3a\"], [0.8888888888888888, \"#fdca26\"], [1.0, \"#f0f921\"]], \"type\": \"surface\"}], \"table\": [{\"cells\": {\"fill\": {\"color\": \"#EBF0F8\"}, \"line\": {\"color\": \"white\"}}, \"header\": {\"fill\": {\"color\": \"#C8D4E3\"}, \"line\": {\"color\": \"white\"}}, \"type\": \"table\"}]}, \"layout\": {\"annotationdefaults\": {\"arrowcolor\": \"#2a3f5f\", \"arrowhead\": 0, \"arrowwidth\": 1}, \"coloraxis\": {\"colorbar\": {\"outlinewidth\": 0, \"ticks\": \"\"}}, \"colorscale\": {\"diverging\": [[0, \"#8e0152\"], [0.1, \"#c51b7d\"], [0.2, \"#de77ae\"], [0.3, \"#f1b6da\"], [0.4, \"#fde0ef\"], [0.5, \"#f7f7f7\"], [0.6, \"#e6f5d0\"], [0.7, \"#b8e186\"], [0.8, \"#7fbc41\"], [0.9, \"#4d9221\"], [1, \"#276419\"]], \"sequential\": [[0.0, \"#0d0887\"], [0.1111111111111111, \"#46039f\"], [0.2222222222222222, \"#7201a8\"], [0.3333333333333333, \"#9c179e\"], [0.4444444444444444, \"#bd3786\"], [0.5555555555555556, \"#d8576b\"], [0.6666666666666666, \"#ed7953\"], [0.7777777777777778, \"#fb9f3a\"], [0.8888888888888888, \"#fdca26\"], [1.0, \"#f0f921\"]], \"sequentialminus\": [[0.0, \"#0d0887\"], [0.1111111111111111, \"#46039f\"], [0.2222222222222222, \"#7201a8\"], [0.3333333333333333, \"#9c179e\"], [0.4444444444444444, \"#bd3786\"], [0.5555555555555556, \"#d8576b\"], [0.6666666666666666, \"#ed7953\"], [0.7777777777777778, \"#fb9f3a\"], [0.8888888888888888, \"#fdca26\"], [1.0, \"#f0f921\"]]}, \"colorway\": [\"#636efa\", \"#EF553B\", \"#00cc96\", \"#ab63fa\", \"#FFA15A\", \"#19d3f3\", \"#FF6692\", \"#B6E880\", \"#FF97FF\", \"#FECB52\"], \"font\": {\"color\": \"#2a3f5f\"}, \"geo\": {\"bgcolor\": \"white\", \"lakecolor\": \"white\", \"landcolor\": \"#E5ECF6\", \"showlakes\": true, \"showland\": true, \"subunitcolor\": \"white\"}, \"hoverlabel\": {\"align\": \"left\"}, \"hovermode\": \"closest\", \"mapbox\": {\"style\": \"light\"}, \"paper_bgcolor\": \"white\", \"plot_bgcolor\": \"#E5ECF6\", \"polar\": {\"angularaxis\": {\"gridcolor\": \"white\", \"linecolor\": \"white\", \"ticks\": \"\"}, \"bgcolor\": \"#E5ECF6\", \"radialaxis\": {\"gridcolor\": \"white\", \"linecolor\": \"white\", \"ticks\": \"\"}}, \"scene\": {\"xaxis\": {\"backgroundcolor\": \"#E5ECF6\", \"gridcolor\": \"white\", \"gridwidth\": 2, \"linecolor\": \"white\", \"showbackground\": true, \"ticks\": \"\", \"zerolinecolor\": \"white\"}, \"yaxis\": {\"backgroundcolor\": \"#E5ECF6\", \"gridcolor\": \"white\", \"gridwidth\": 2, \"linecolor\": \"white\", \"showbackground\": true, \"ticks\": \"\", \"zerolinecolor\": \"white\"}, \"zaxis\": {\"backgroundcolor\": \"#E5ECF6\", \"gridcolor\": \"white\", \"gridwidth\": 2, \"linecolor\": \"white\", \"showbackground\": true, \"ticks\": \"\", \"zerolinecolor\": \"white\"}}, \"shapedefaults\": {\"line\": {\"color\": \"#2a3f5f\"}}, \"ternary\": {\"aaxis\": {\"gridcolor\": \"white\", \"linecolor\": \"white\", \"ticks\": \"\"}, \"baxis\": {\"gridcolor\": \"white\", \"linecolor\": \"white\", \"ticks\": \"\"}, \"bgcolor\": \"#E5ECF6\", \"caxis\": {\"gridcolor\": \"white\", \"linecolor\": \"white\", \"ticks\": \"\"}}, \"title\": {\"x\": 0.05}, \"xaxis\": {\"automargin\": true, \"gridcolor\": \"white\", \"linecolor\": \"white\", \"ticks\": \"\", \"title\": {\"standoff\": 15}, \"zerolinecolor\": \"white\", \"zerolinewidth\": 2}, \"yaxis\": {\"automargin\": true, \"gridcolor\": \"white\", \"linecolor\": \"white\", \"ticks\": \"\", \"title\": {\"standoff\": 15}, \"zerolinecolor\": \"white\", \"zerolinewidth\": 2}}}, \"title\": {\"text\": \"Using MyKMeans\"}, \"xaxis\": {\"anchor\": \"y\", \"domain\": [0.0, 1.0], \"title\": {\"text\": \"State\"}}, \"yaxis\": {\"anchor\": \"x\", \"domain\": [0.0, 1.0], \"title\": {\"text\": \"Population\"}}},\n",
              "                        {\"responsive\": true}\n",
              "                    ).then(function(){\n",
              "                            \n",
              "var gd = document.getElementById('cdb1e6a3-e905-4b95-882a-256f597a7afa');\n",
              "var x = new MutationObserver(function (mutations, observer) {{\n",
              "        var display = window.getComputedStyle(gd).display;\n",
              "        if (!display || display === 'none') {{\n",
              "            console.log([gd, 'removed!']);\n",
              "            Plotly.purge(gd);\n",
              "            observer.disconnect();\n",
              "        }}\n",
              "}});\n",
              "\n",
              "// Listen for the removal of the full notebook cells\n",
              "var notebookContainer = gd.closest('#notebook-container');\n",
              "if (notebookContainer) {{\n",
              "    x.observe(notebookContainer, {childList: true});\n",
              "}}\n",
              "\n",
              "// Listen for the clearing of the current output cell\n",
              "var outputEl = gd.closest('.output');\n",
              "if (outputEl) {{\n",
              "    x.observe(outputEl, {childList: true});\n",
              "}}\n",
              "\n",
              "                        })\n",
              "                };\n",
              "                \n",
              "            </script>\n",
              "        </div>\n",
              "</body>\n",
              "</html>"
            ]
          },
          "metadata": {
            "tags": []
          }
        }
      ]
    },
    {
      "cell_type": "code",
      "metadata": {
        "id": "aZjGqboGTO1e",
        "colab_type": "code",
        "colab": {
          "base_uri": "https://localhost:8080/",
          "height": 542
        },
        "outputId": "833e71a7-0630-4c41-8df3-ff790ff2b13b"
      },
      "source": [
        "fig = px.scatter(states, x = 'State', y = 'Population', color = python_kmeans.labels_.astype(str), size = 'Debt', title='Using Python KMeans')\n",
        "fig.show()"
      ],
      "execution_count": 83,
      "outputs": [
        {
          "output_type": "display_data",
          "data": {
            "text/html": [
              "<html>\n",
              "<head><meta charset=\"utf-8\" /></head>\n",
              "<body>\n",
              "    <div>\n",
              "            <script src=\"https://cdnjs.cloudflare.com/ajax/libs/mathjax/2.7.5/MathJax.js?config=TeX-AMS-MML_SVG\"></script><script type=\"text/javascript\">if (window.MathJax) {MathJax.Hub.Config({SVG: {font: \"STIX-Web\"}});}</script>\n",
              "                <script type=\"text/javascript\">window.PlotlyConfig = {MathJaxConfig: 'local'};</script>\n",
              "        <script src=\"https://cdn.plot.ly/plotly-latest.min.js\"></script>    \n",
              "            <div id=\"0f89b8b3-983b-4c3d-9c19-c13fd20a4e85\" class=\"plotly-graph-div\" style=\"height:525px; width:100%;\"></div>\n",
              "            <script type=\"text/javascript\">\n",
              "                \n",
              "                    window.PLOTLYENV=window.PLOTLYENV || {};\n",
              "                    \n",
              "                if (document.getElementById(\"0f89b8b3-983b-4c3d-9c19-c13fd20a4e85\")) {\n",
              "                    Plotly.newPlot(\n",
              "                        '0f89b8b3-983b-4c3d-9c19-c13fd20a4e85',\n",
              "                        [{\"hoverlabel\": {\"namelength\": 0}, \"hovertemplate\": \"color=2<br>State=%{x}<br>Population=%{y}<br>Debt=%{marker.size}\", \"legendgroup\": \"color=2\", \"marker\": {\"color\": \"#636efa\", \"size\": [8772871.0, 5921713.0, 14291349.0, 4801939.0, 16980689.0, 4561576.0, 13050862.0, 9656278.0, 3369178.0, 21842716.0, 6149694.0, 7538475.0, 14403514.0, 18092508.0, 4750384.0, 28027363.0, 16363418.0, 7470178.0, 18419751.0, 2795614.0, 2014523.0, 3248814.0, 7739447.0, 7057656.0, 16310177.0, 2885664.0, 8457322.0, 12656643.0, 8932377.0, 15744638.0, 3527703.0, 6127422.0, 7453346.0, 3502960.0, 27825929.0, 7547010.0, 23252381.0, 769721.0], \"sizemode\": \"area\", \"sizeref\": 381930.73, \"symbol\": \"circle\"}, \"mode\": \"markers\", \"name\": \"color=2\", \"showlegend\": true, \"type\": \"scatter\", \"x\": [\"Alabama\", \"Alaska\", \"Arizona\", \"Arkansas\", \"Colorado\", \"Delaware\", \"Georgia\", \"Hawaii\", \"Idaho\", \"Indiana\", \"Iowa\", \"Kansas\", \"Kentucky\", \"Louisiana\", \"Maine\", \"Maryland\", \"Minnesota\", \"Mississippi\", \"Missouri\", \"Montana\", \"Nebraska\", \"Nevada\", \"New Hampshire\", \"New Mexico\", \"North Carolina\", \"North Dakota\", \"Oklahoma\", \"Oregon\", \"Rhode Island\", \"South Carolina\", \"South Dakota\", \"Tennessee\", \"Utah\", \"Vermont\", \"Virginia\", \"West Virginia\", \"Wisconsin\", \"Wyoming\"], \"xaxis\": \"x\", \"y\": [4908621, 734002, 7378494, 3038999, 5845526, 982895, 10736059, 1412687, 1826156, 6745354, 3179849, 2910357, 4499692, 4645184, 1345790, 6083116, 5700671, 2989260, 6169270, 1086759, 1952570, 3139658, 1359711, 2096640, 10611862, 761723, 3954821, 4301089, 1056161, 5210095, 903027, 6897576, 3282115, 628061, 8626207, 1778070, 5851754, 567025], \"yaxis\": \"y\"}, {\"hoverlabel\": {\"namelength\": 0}, \"hovertemplate\": \"color=1<br>State=%{x}<br>Population=%{y}<br>Debt=%{marker.size}\", \"legendgroup\": \"color=1\", \"marker\": {\"color\": \"#EF553B\", \"size\": [152772292.0, 139234923.0], \"sizemode\": \"area\", \"sizeref\": 381930.73, \"symbol\": \"circle\"}, \"mode\": \"markers\", \"name\": \"color=1\", \"showlegend\": true, \"type\": \"scatter\", \"x\": [\"California\", \"New York\"], \"xaxis\": \"x\", \"y\": [39937489, 19440469], \"yaxis\": \"y\"}, {\"hoverlabel\": {\"namelength\": 0}, \"hovertemplate\": \"color=0<br>State=%{x}<br>Population=%{y}<br>Debt=%{marker.size}\", \"legendgroup\": \"color=0\", \"marker\": {\"color\": \"#00cc96\", \"size\": [38756156.0, 28823847.0, 61821319.0, 77043165.0, 33463604.0, 65874095.0, 33493235.0, 47519575.0, 50963262.0, 33427752.0], \"sizemode\": \"area\", \"sizeref\": 381930.73, \"symbol\": \"circle\"}, \"mode\": \"markers\", \"name\": \"color=0\", \"showlegend\": true, \"type\": \"scatter\", \"x\": [\"Connecticut\", \"Florida\", \"Illinois\", \"Massachusetts\", \"Michigan\", \"New Jersey\", \"Ohio\", \"Pennsylvania\", \"Texas\", \"Washington\"], \"xaxis\": \"x\", \"y\": [3563077, 21992985, 12659682, 6976597, 10045029, 8936574, 11747694, 12820878, 29472295, 7797095], \"yaxis\": \"y\"}],\n",
              "                        {\"legend\": {\"itemsizing\": \"constant\", \"tracegroupgap\": 0}, \"template\": {\"data\": {\"bar\": [{\"error_x\": {\"color\": \"#2a3f5f\"}, \"error_y\": {\"color\": \"#2a3f5f\"}, \"marker\": {\"line\": {\"color\": \"#E5ECF6\", \"width\": 0.5}}, \"type\": \"bar\"}], \"barpolar\": [{\"marker\": {\"line\": {\"color\": \"#E5ECF6\", \"width\": 0.5}}, \"type\": \"barpolar\"}], \"carpet\": [{\"aaxis\": {\"endlinecolor\": \"#2a3f5f\", \"gridcolor\": \"white\", \"linecolor\": \"white\", \"minorgridcolor\": \"white\", \"startlinecolor\": \"#2a3f5f\"}, \"baxis\": {\"endlinecolor\": \"#2a3f5f\", \"gridcolor\": \"white\", \"linecolor\": \"white\", \"minorgridcolor\": \"white\", \"startlinecolor\": \"#2a3f5f\"}, \"type\": \"carpet\"}], \"choropleth\": [{\"colorbar\": {\"outlinewidth\": 0, \"ticks\": \"\"}, \"type\": \"choropleth\"}], \"contour\": [{\"colorbar\": {\"outlinewidth\": 0, \"ticks\": \"\"}, \"colorscale\": [[0.0, \"#0d0887\"], [0.1111111111111111, \"#46039f\"], [0.2222222222222222, \"#7201a8\"], [0.3333333333333333, \"#9c179e\"], [0.4444444444444444, \"#bd3786\"], [0.5555555555555556, \"#d8576b\"], [0.6666666666666666, \"#ed7953\"], [0.7777777777777778, \"#fb9f3a\"], [0.8888888888888888, \"#fdca26\"], [1.0, \"#f0f921\"]], \"type\": \"contour\"}], \"contourcarpet\": [{\"colorbar\": {\"outlinewidth\": 0, \"ticks\": \"\"}, \"type\": \"contourcarpet\"}], \"heatmap\": [{\"colorbar\": {\"outlinewidth\": 0, \"ticks\": \"\"}, \"colorscale\": [[0.0, \"#0d0887\"], [0.1111111111111111, \"#46039f\"], [0.2222222222222222, \"#7201a8\"], [0.3333333333333333, \"#9c179e\"], [0.4444444444444444, \"#bd3786\"], [0.5555555555555556, \"#d8576b\"], [0.6666666666666666, \"#ed7953\"], [0.7777777777777778, \"#fb9f3a\"], [0.8888888888888888, \"#fdca26\"], [1.0, \"#f0f921\"]], \"type\": \"heatmap\"}], \"heatmapgl\": [{\"colorbar\": {\"outlinewidth\": 0, \"ticks\": \"\"}, \"colorscale\": [[0.0, \"#0d0887\"], [0.1111111111111111, \"#46039f\"], [0.2222222222222222, \"#7201a8\"], [0.3333333333333333, \"#9c179e\"], [0.4444444444444444, \"#bd3786\"], [0.5555555555555556, \"#d8576b\"], [0.6666666666666666, \"#ed7953\"], [0.7777777777777778, \"#fb9f3a\"], [0.8888888888888888, \"#fdca26\"], [1.0, \"#f0f921\"]], \"type\": \"heatmapgl\"}], \"histogram\": [{\"marker\": {\"colorbar\": {\"outlinewidth\": 0, \"ticks\": \"\"}}, \"type\": \"histogram\"}], \"histogram2d\": [{\"colorbar\": {\"outlinewidth\": 0, \"ticks\": \"\"}, \"colorscale\": [[0.0, \"#0d0887\"], [0.1111111111111111, \"#46039f\"], [0.2222222222222222, \"#7201a8\"], [0.3333333333333333, \"#9c179e\"], [0.4444444444444444, \"#bd3786\"], [0.5555555555555556, \"#d8576b\"], [0.6666666666666666, \"#ed7953\"], [0.7777777777777778, \"#fb9f3a\"], [0.8888888888888888, \"#fdca26\"], [1.0, \"#f0f921\"]], \"type\": \"histogram2d\"}], \"histogram2dcontour\": [{\"colorbar\": {\"outlinewidth\": 0, \"ticks\": \"\"}, \"colorscale\": [[0.0, \"#0d0887\"], [0.1111111111111111, \"#46039f\"], [0.2222222222222222, \"#7201a8\"], [0.3333333333333333, \"#9c179e\"], [0.4444444444444444, \"#bd3786\"], [0.5555555555555556, \"#d8576b\"], [0.6666666666666666, \"#ed7953\"], [0.7777777777777778, \"#fb9f3a\"], [0.8888888888888888, \"#fdca26\"], [1.0, \"#f0f921\"]], \"type\": \"histogram2dcontour\"}], \"mesh3d\": [{\"colorbar\": {\"outlinewidth\": 0, \"ticks\": \"\"}, \"type\": \"mesh3d\"}], \"parcoords\": [{\"line\": {\"colorbar\": {\"outlinewidth\": 0, \"ticks\": \"\"}}, \"type\": \"parcoords\"}], \"pie\": [{\"automargin\": true, \"type\": \"pie\"}], \"scatter\": [{\"marker\": {\"colorbar\": {\"outlinewidth\": 0, \"ticks\": \"\"}}, \"type\": \"scatter\"}], \"scatter3d\": [{\"line\": {\"colorbar\": {\"outlinewidth\": 0, \"ticks\": \"\"}}, \"marker\": {\"colorbar\": {\"outlinewidth\": 0, \"ticks\": \"\"}}, \"type\": \"scatter3d\"}], \"scattercarpet\": [{\"marker\": {\"colorbar\": {\"outlinewidth\": 0, \"ticks\": \"\"}}, \"type\": \"scattercarpet\"}], \"scattergeo\": [{\"marker\": {\"colorbar\": {\"outlinewidth\": 0, \"ticks\": \"\"}}, \"type\": \"scattergeo\"}], \"scattergl\": [{\"marker\": {\"colorbar\": {\"outlinewidth\": 0, \"ticks\": \"\"}}, \"type\": \"scattergl\"}], \"scattermapbox\": [{\"marker\": {\"colorbar\": {\"outlinewidth\": 0, \"ticks\": \"\"}}, \"type\": \"scattermapbox\"}], \"scatterpolar\": [{\"marker\": {\"colorbar\": {\"outlinewidth\": 0, \"ticks\": \"\"}}, \"type\": \"scatterpolar\"}], \"scatterpolargl\": [{\"marker\": {\"colorbar\": {\"outlinewidth\": 0, \"ticks\": \"\"}}, \"type\": \"scatterpolargl\"}], \"scatterternary\": [{\"marker\": {\"colorbar\": {\"outlinewidth\": 0, \"ticks\": \"\"}}, \"type\": \"scatterternary\"}], \"surface\": [{\"colorbar\": {\"outlinewidth\": 0, \"ticks\": \"\"}, \"colorscale\": [[0.0, \"#0d0887\"], [0.1111111111111111, \"#46039f\"], [0.2222222222222222, \"#7201a8\"], [0.3333333333333333, \"#9c179e\"], [0.4444444444444444, \"#bd3786\"], [0.5555555555555556, \"#d8576b\"], [0.6666666666666666, \"#ed7953\"], [0.7777777777777778, \"#fb9f3a\"], [0.8888888888888888, \"#fdca26\"], [1.0, \"#f0f921\"]], \"type\": \"surface\"}], \"table\": [{\"cells\": {\"fill\": {\"color\": \"#EBF0F8\"}, \"line\": {\"color\": \"white\"}}, \"header\": {\"fill\": {\"color\": \"#C8D4E3\"}, \"line\": {\"color\": \"white\"}}, \"type\": \"table\"}]}, \"layout\": {\"annotationdefaults\": {\"arrowcolor\": \"#2a3f5f\", \"arrowhead\": 0, \"arrowwidth\": 1}, \"coloraxis\": {\"colorbar\": {\"outlinewidth\": 0, \"ticks\": \"\"}}, \"colorscale\": {\"diverging\": [[0, \"#8e0152\"], [0.1, \"#c51b7d\"], [0.2, \"#de77ae\"], [0.3, \"#f1b6da\"], [0.4, \"#fde0ef\"], [0.5, \"#f7f7f7\"], [0.6, \"#e6f5d0\"], [0.7, \"#b8e186\"], [0.8, \"#7fbc41\"], [0.9, \"#4d9221\"], [1, \"#276419\"]], \"sequential\": [[0.0, \"#0d0887\"], [0.1111111111111111, \"#46039f\"], [0.2222222222222222, \"#7201a8\"], [0.3333333333333333, \"#9c179e\"], [0.4444444444444444, \"#bd3786\"], [0.5555555555555556, \"#d8576b\"], [0.6666666666666666, \"#ed7953\"], [0.7777777777777778, \"#fb9f3a\"], [0.8888888888888888, \"#fdca26\"], [1.0, \"#f0f921\"]], \"sequentialminus\": [[0.0, \"#0d0887\"], [0.1111111111111111, \"#46039f\"], [0.2222222222222222, \"#7201a8\"], [0.3333333333333333, \"#9c179e\"], [0.4444444444444444, \"#bd3786\"], [0.5555555555555556, \"#d8576b\"], [0.6666666666666666, \"#ed7953\"], [0.7777777777777778, \"#fb9f3a\"], [0.8888888888888888, \"#fdca26\"], [1.0, \"#f0f921\"]]}, \"colorway\": [\"#636efa\", \"#EF553B\", \"#00cc96\", \"#ab63fa\", \"#FFA15A\", \"#19d3f3\", \"#FF6692\", \"#B6E880\", \"#FF97FF\", \"#FECB52\"], \"font\": {\"color\": \"#2a3f5f\"}, \"geo\": {\"bgcolor\": \"white\", \"lakecolor\": \"white\", \"landcolor\": \"#E5ECF6\", \"showlakes\": true, \"showland\": true, \"subunitcolor\": \"white\"}, \"hoverlabel\": {\"align\": \"left\"}, \"hovermode\": \"closest\", \"mapbox\": {\"style\": \"light\"}, \"paper_bgcolor\": \"white\", \"plot_bgcolor\": \"#E5ECF6\", \"polar\": {\"angularaxis\": {\"gridcolor\": \"white\", \"linecolor\": \"white\", \"ticks\": \"\"}, \"bgcolor\": \"#E5ECF6\", \"radialaxis\": {\"gridcolor\": \"white\", \"linecolor\": \"white\", \"ticks\": \"\"}}, \"scene\": {\"xaxis\": {\"backgroundcolor\": \"#E5ECF6\", \"gridcolor\": \"white\", \"gridwidth\": 2, \"linecolor\": \"white\", \"showbackground\": true, \"ticks\": \"\", \"zerolinecolor\": \"white\"}, \"yaxis\": {\"backgroundcolor\": \"#E5ECF6\", \"gridcolor\": \"white\", \"gridwidth\": 2, \"linecolor\": \"white\", \"showbackground\": true, \"ticks\": \"\", \"zerolinecolor\": \"white\"}, \"zaxis\": {\"backgroundcolor\": \"#E5ECF6\", \"gridcolor\": \"white\", \"gridwidth\": 2, \"linecolor\": \"white\", \"showbackground\": true, \"ticks\": \"\", \"zerolinecolor\": \"white\"}}, \"shapedefaults\": {\"line\": {\"color\": \"#2a3f5f\"}}, \"ternary\": {\"aaxis\": {\"gridcolor\": \"white\", \"linecolor\": \"white\", \"ticks\": \"\"}, \"baxis\": {\"gridcolor\": \"white\", \"linecolor\": \"white\", \"ticks\": \"\"}, \"bgcolor\": \"#E5ECF6\", \"caxis\": {\"gridcolor\": \"white\", \"linecolor\": \"white\", \"ticks\": \"\"}}, \"title\": {\"x\": 0.05}, \"xaxis\": {\"automargin\": true, \"gridcolor\": \"white\", \"linecolor\": \"white\", \"ticks\": \"\", \"title\": {\"standoff\": 15}, \"zerolinecolor\": \"white\", \"zerolinewidth\": 2}, \"yaxis\": {\"automargin\": true, \"gridcolor\": \"white\", \"linecolor\": \"white\", \"ticks\": \"\", \"title\": {\"standoff\": 15}, \"zerolinecolor\": \"white\", \"zerolinewidth\": 2}}}, \"title\": {\"text\": \"Using Python KMeans\"}, \"xaxis\": {\"anchor\": \"y\", \"domain\": [0.0, 1.0], \"title\": {\"text\": \"State\"}}, \"yaxis\": {\"anchor\": \"x\", \"domain\": [0.0, 1.0], \"title\": {\"text\": \"Population\"}}},\n",
              "                        {\"responsive\": true}\n",
              "                    ).then(function(){\n",
              "                            \n",
              "var gd = document.getElementById('0f89b8b3-983b-4c3d-9c19-c13fd20a4e85');\n",
              "var x = new MutationObserver(function (mutations, observer) {{\n",
              "        var display = window.getComputedStyle(gd).display;\n",
              "        if (!display || display === 'none') {{\n",
              "            console.log([gd, 'removed!']);\n",
              "            Plotly.purge(gd);\n",
              "            observer.disconnect();\n",
              "        }}\n",
              "}});\n",
              "\n",
              "// Listen for the removal of the full notebook cells\n",
              "var notebookContainer = gd.closest('#notebook-container');\n",
              "if (notebookContainer) {{\n",
              "    x.observe(notebookContainer, {childList: true});\n",
              "}}\n",
              "\n",
              "// Listen for the clearing of the current output cell\n",
              "var outputEl = gd.closest('.output');\n",
              "if (outputEl) {{\n",
              "    x.observe(outputEl, {childList: true});\n",
              "}}\n",
              "\n",
              "                        })\n",
              "                };\n",
              "                \n",
              "            </script>\n",
              "        </div>\n",
              "</body>\n",
              "</html>"
            ]
          },
          "metadata": {
            "tags": []
          }
        }
      ]
    }
  ]
}